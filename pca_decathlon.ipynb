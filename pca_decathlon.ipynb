{
  "nbformat": 4,
  "nbformat_minor": 0,
  "metadata": {
    "colab": {
      "name": "pca_decathlon.ipynb",
      "provenance": [],
      "collapsed_sections": [],
      "include_colab_link": true
    },
    "kernelspec": {
      "name": "python3",
      "display_name": "Python 3"
    }
  },
  "cells": [
    {
      "cell_type": "markdown",
      "metadata": {
        "id": "view-in-github",
        "colab_type": "text"
      },
      "source": [
        "<a href=\"https://colab.research.google.com/github/farfaness/dimension_reduction_and_clutering/blob/master/pca_decathlon.ipynb\" target=\"_parent\"><img src=\"https://colab.research.google.com/assets/colab-badge.svg\" alt=\"Open In Colab\"/></a>"
      ]
    },
    {
      "cell_type": "markdown",
      "metadata": {
        "id": "cJivZ0rKYy9r",
        "colab_type": "text"
      },
      "source": [
        "# Introduction\n",
        "\n",
        "Ce jeu de données contient 41 entrées, qui décrivent chacune les performances d'un athlète à une compétition de décathlon. Nous allons faire une ACP des dix variables décrivant les performances à chacune des épreuves du décathlon (100 mètres, saut en hauteur, lancer de poids, saut en hauteur, 400 mètres, 110 mètres haies, lancer de disque, saut à la perche, javelot, et 1500 mètres).\n",
        "\n",
        "source : https://openclassrooms.com/fr/courses/4379436-explorez-vos-donnees-avec-des-algorithmes-non-supervises/4379506-tp-acp-d-un-jeu-de-donnees-sur-les-performances-d-athletes-olympiques"
      ]
    },
    {
      "cell_type": "markdown",
      "metadata": {
        "id": "5TcXxe2dY5_r",
        "colab_type": "text"
      },
      "source": [
        "# Lecture du fichier et standard scaler"
      ]
    },
    {
      "cell_type": "code",
      "metadata": {
        "id": "R_hGDNvfai3D",
        "colab_type": "code",
        "colab": {}
      },
      "source": [
        "import pandas as pd\n",
        "from sklearn import preprocessing"
      ],
      "execution_count": 0,
      "outputs": []
    },
    {
      "cell_type": "code",
      "metadata": {
        "id": "7scZuAE-Xsxm",
        "colab_type": "code",
        "colab": {}
      },
      "source": [
        "# To download the dataset from my google drive : mout my drive\n",
        "from google.colab import drive\n",
        "drive.mount('/content/drive')"
      ],
      "execution_count": 0,
      "outputs": []
    },
    {
      "cell_type": "code",
      "metadata": {
        "id": "FXKZSUVzYUS9",
        "colab_type": "code",
        "colab": {
          "base_uri": "https://localhost:8080/",
          "height": 34
        },
        "outputId": "dcc51a15-238d-4ba2-8365-41df0fb3acf7"
      },
      "source": [
        "cd '/content/drive/My Drive/reduction_dimension_et_clustering'"
      ],
      "execution_count": 2,
      "outputs": [
        {
          "output_type": "stream",
          "text": [
            "/content/drive/My Drive/reduction_dimension_et_clustering\n"
          ],
          "name": "stdout"
        }
      ]
    },
    {
      "cell_type": "code",
      "metadata": {
        "id": "cTrvBCOeYYnQ",
        "colab_type": "code",
        "colab": {
          "base_uri": "https://localhost:8080/",
          "height": 104
        },
        "outputId": "80e48a27-e883-4445-ae39-220b7e15013e"
      },
      "source": [
        "ls"
      ],
      "execution_count": 3,
      "outputs": [
        {
          "output_type": "stream",
          "text": [
            "bag_of_words.csv                   mystery.csv\n",
            "courses_info.csv                   pca_decathlon.ipynb\n",
            "decathlon.txt                      Principal_Components_Analysis.ipynb\n",
            "hierarchical_classification.ipynb  slide_detector_PCA_Kmeans_CH.ipynb\n",
            "my_courses.csv                     video.csv\n"
          ],
          "name": "stdout"
        }
      ]
    },
    {
      "cell_type": "code",
      "metadata": {
        "id": "CoVr_HGzYjm7",
        "colab_type": "code",
        "colab": {}
      },
      "source": [
        "# charger les données\n",
        "data = pd.read_csv('/content/drive/My Drive/reduction_dimension_et_clustering/decathlon.txt', sep=\"\\t\")\n",
        "\n",
        "# éliminer les colonnes que nous n'utiliserons pas\n",
        "my_data = data.drop(['Points', 'Rank', 'Competition'], axis=1)\n",
        "\n",
        "# transformer les données en array numpy\n",
        "X = my_data.values"
      ],
      "execution_count": 0,
      "outputs": []
    },
    {
      "cell_type": "code",
      "metadata": {
        "id": "VRB5h-xmZIfM",
        "colab_type": "code",
        "colab": {}
      },
      "source": [
        "std_scale = preprocessing.StandardScaler().fit(X)\n",
        "X_scaled = std_scale.transform(X)"
      ],
      "execution_count": 0,
      "outputs": []
    },
    {
      "cell_type": "markdown",
      "metadata": {
        "id": "6_DavqNNawEa",
        "colab_type": "text"
      },
      "source": [
        "# ACP"
      ]
    },
    {
      "cell_type": "code",
      "metadata": {
        "id": "5aPtKsniaxu4",
        "colab_type": "code",
        "colab": {}
      },
      "source": [
        "from sklearn import decomposition\n",
        "import matplotlib.pyplot as plt"
      ],
      "execution_count": 0,
      "outputs": []
    },
    {
      "cell_type": "code",
      "metadata": {
        "id": "sGJfnWYnZMLB",
        "colab_type": "code",
        "colab": {
          "base_uri": "https://localhost:8080/",
          "height": 52
        },
        "outputId": "f0ce245d-6434-4316-c372-eaea65e8d4d0"
      },
      "source": [
        "pca = decomposition.PCA(n_components=2)\n",
        "pca.fit(X_scaled)"
      ],
      "execution_count": 6,
      "outputs": [
        {
          "output_type": "execute_result",
          "data": {
            "text/plain": [
              "PCA(copy=True, iterated_power='auto', n_components=2, random_state=None,\n",
              "    svd_solver='auto', tol=0.0, whiten=False)"
            ]
          },
          "metadata": {
            "tags": []
          },
          "execution_count": 6
        }
      ]
    },
    {
      "cell_type": "code",
      "metadata": {
        "id": "o0V0wM2bZOXv",
        "colab_type": "code",
        "colab": {
          "base_uri": "https://localhost:8080/",
          "height": 52
        },
        "outputId": "cab0de9b-b7ef-4472-c793-22d8be2dcef5"
      },
      "source": [
        "print(pca.explained_variance_ratio_) # Pourcentage de variance expliquée pour chacune des composantes\n",
        "print(pca.explained_variance_ratio_.sum()) # Pourcentage cumulé"
      ],
      "execution_count": 8,
      "outputs": [
        {
          "output_type": "stream",
          "text": [
            "[0.32719055 0.1737131 ]\n",
            "0.5009036561090068\n"
          ],
          "name": "stdout"
        }
      ]
    },
    {
      "cell_type": "code",
      "metadata": {
        "id": "DmgAa89sbCQT",
        "colab_type": "code",
        "colab": {
          "base_uri": "https://localhost:8080/",
          "height": 286
        },
        "outputId": "d3e13be3-5377-41fc-bfb3-a90454807f14"
      },
      "source": [
        "# projeter X sur les composantes principales\n",
        "X_projected = pca.transform(X_scaled)\n",
        "\n",
        "# afficher chaque observation\n",
        "plt.scatter(X_projected[:, 0], X_projected[:, 1],\n",
        "    # colorer en utilisant la variable 'Rank'\n",
        "    c=data.get('Rank'))\n",
        "\n",
        "plt.xlim([-5.5, 5.5])\n",
        "plt.ylim([-4, 4])\n",
        "plt.colorbar()"
      ],
      "execution_count": 14,
      "outputs": [
        {
          "output_type": "execute_result",
          "data": {
            "text/plain": [
              "<matplotlib.colorbar.Colorbar at 0x7fc45c8ddf60>"
            ]
          },
          "metadata": {
            "tags": []
          },
          "execution_count": 14
        },
        {
          "output_type": "display_data",
          "data": {
            "image/png": "[encoded data removed]",
            "text/plain": [
              "<Figure size 432x288 with 2 Axes>"
            ]
          },
          "metadata": {
            "tags": []
          }
        }
      ]
    },
    {
      "cell_type": "markdown",
      "metadata": {
        "id": "z1_YZ_azbh7S",
        "colab_type": "text"
      },
      "source": [
        "# Contribution de chaque variables aux composantes"
      ]
    },
    {
      "cell_type": "code",
      "metadata": {
        "id": "P5mf2_WzbcGQ",
        "colab_type": "code",
        "colab": {
          "base_uri": "https://localhost:8080/",
          "height": 282
        },
        "outputId": "7494efdc-83cc-41be-a045-6dfc1215024c"
      },
      "source": [
        "pcs = pca.components_\n",
        "\n",
        "for i, (x, y) in enumerate(zip(pcs[0, :], pcs[1, :])):\n",
        "    # Afficher un segment de l'origine au point (x, y)\n",
        "    plt.plot([0, x], [0, y], color='k')\n",
        "    # Afficher le nom (data.columns[i]) de la performance\n",
        "    plt.text(x, y, data.columns[i], fontsize='14')\n",
        "\n",
        "# Afficher une ligne horizontale y=0\n",
        "plt.plot([-0.7, 0.7], [0, 0], color='grey', ls='--')\n",
        "\n",
        "# Afficher une ligne verticale x=0\n",
        "plt.plot([0, 0], [-0.7, 0.7], color='grey', ls='--')\n",
        "\n",
        "plt.xlim([-0.7, 0.7])\n",
        "plt.ylim([-0.7, 0.7])"
      ],
      "execution_count": 15,
      "outputs": [
        {
          "output_type": "execute_result",
          "data": {
            "text/plain": [
              "(-0.7, 0.7)"
            ]
          },
          "metadata": {
            "tags": []
          },
          "execution_count": 15
        },
        {
          "output_type": "display_data",
          "data": {
            "image/png": "[encoded data removed]",
            "text/plain": [
              "<Figure size 432x288 with 1 Axes>"
            ]
          },
          "metadata": {
            "tags": []
          }
        }
      ]
    },
    {
      "cell_type": "markdown",
      "metadata": {
        "id": "mOd_VCMibxaS",
        "colab_type": "text"
      },
      "source": [
        "La première composante permet de séparer les athlètes qui ont de très bonnes performances de ceux qui sont (relativement !) plus mauvais dans toutes les disciplines, comme nous l'avions remarqué.\n",
        "\n",
        "La deuxième composante principale permet de séparer les athlètes plus forts (bonnes performances aux lancers) et moins endurants (basse performance aux 400m et 1500m) des autres."
      ]
    }
  ]
}